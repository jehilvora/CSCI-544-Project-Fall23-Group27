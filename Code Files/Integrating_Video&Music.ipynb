{
  "nbformat": 4,
  "nbformat_minor": 0,
  "metadata": {
    "colab": {
      "provenance": [],
      "gpuType": "T4"
    },
    "kernelspec": {
      "name": "python3",
      "display_name": "Python 3"
    },
    "language_info": {
      "name": "python"
    },
    "accelerator": "GPU"
  },
  "cells": [
    {
      "cell_type": "markdown",
      "source": [
        "<h1> Group 27 - Part of Codebase\n",
        "\n",
        "<h4> Important Note: The following code was written as part of an academic project."
      ],
      "metadata": {
        "id": "bcoJJyhMwJ_m"
      }
    },
    {
      "cell_type": "markdown",
      "source": [
        "<h1> Combining the Video and Music Generated for Story Generation </h1>\n",
        "\n",
        "The following notebook contains code for integrating the video and music that we generated together. Specifics of the model used and how it works is mentioned in the final report."
      ],
      "metadata": {
        "id": "H9-hRpiewJ43"
      }
    },
    {
      "cell_type": "markdown",
      "source": [
        "1. Importing the libraries"
      ],
      "metadata": {
        "id": "Vnzv1BZlwJtM"
      }
    },
    {
      "cell_type": "code",
      "source": [
        "from moviepy.editor import VideoFileClip, AudioFileClip"
      ],
      "metadata": {
        "id": "gIlQPApRGmnF"
      },
      "execution_count": null,
      "outputs": []
    },
    {
      "cell_type": "markdown",
      "source": [
        "2. Integrating the Generated Video and Music Together\n",
        "\n",
        "The function generate_story takes text input and creates a video with synchronized audio. It generates a video and audio from the provided text, using paths for video and audio files. It then loads these files, synchronizes the audio with the video, and exports the final video as 'story.mp4'. The function uses VideoFileClip and AudioFileClip from a video processing library like MoviePy. The example usage initializes a text variable and generates a story video from it."
      ],
      "metadata": {
        "id": "3SLYtLhJHFQb"
      }
    },
    {
      "cell_type": "code",
      "source": [
        "def generate_story(text):\n",
        "    # Generate video from text\n",
        "    video_path = 'path_to_generated_video'\n",
        "    # Generate audio from text\n",
        "    audio_path = 'path_to_generated_music'\n",
        "    # Load video and audio clips\n",
        "    video_clip = VideoFileClip(video_path)\n",
        "    audio_clip = AudioFileClip(audio_path)\n",
        "    # Synchronize video and audio\n",
        "    synced_clip = video_clip.set_audio(audio_clip)\n",
        "    # Export the final video\n",
        "    output_path = \"output/story.mp4\"\n",
        "    synced_clip.write_videofile(output_path, codec=\"libx264\", audio_codec=\"aac\")\n",
        "\n",
        "# Example usage\n",
        "text = \"Once upon a time in a faraway land...\"\n",
        "generate_story(text)"
      ],
      "metadata": {
        "id": "JCIwQsg4Gk30"
      },
      "execution_count": null,
      "outputs": []
    }
  ]
}